{
  "nbformat": 4,
  "nbformat_minor": 0,
  "metadata": {
    "colab": {
      "name": "Tugas1_Dammam_Fadhil_Telkom.ipynb",
      "provenance": [],
      "collapsed_sections": [],
      "include_colab_link": true
    },
    "kernelspec": {
      "display_name": "Python 3",
      "language": "python",
      "name": "python3"
    },
    "language_info": {
      "codemirror_mode": {
        "name": "ipython",
        "version": 3
      },
      "file_extension": ".py",
      "mimetype": "text/x-python",
      "name": "python",
      "nbconvert_exporter": "python",
      "pygments_lexer": "ipython3",
      "version": "3.7.6"
    }
  },
  "cells": [
    {
      "cell_type": "markdown",
      "metadata": {
        "id": "view-in-github",
        "colab_type": "text"
      },
      "source": [
        "<a href=\"https://colab.research.google.com/github/Fadhilmirsyad/Tugas_Orbit/blob/main/Tugas1_Dammam_Fadhil_Telkom.ipynb\" target=\"_parent\"><img src=\"https://colab.research.google.com/assets/colab-badge.svg\" alt=\"Open In Colab\"/></a>"
      ]
    },
    {
      "cell_type": "markdown",
      "metadata": {
        "id": "4IdbbEhoyOcD"
      },
      "source": [
        "**Python1_Dammam_Fadhil_Telkom**"
      ]
    },
    {
      "cell_type": "markdown",
      "metadata": {
        "id": "Le8N3SLcbiAd"
      },
      "source": [
        "# **Fungsi**"
      ]
    },
    {
      "cell_type": "code",
      "metadata": {
        "colab": {
          "base_uri": "https://localhost:8080/"
        },
        "id": "ywDbPVukTDYd",
        "outputId": "02a3cea7-f2a5-49c6-c7f7-860dc4ebb845"
      },
      "source": [
        "# Deklarasi Fungsi\n",
        "def cetak(x):\n",
        "  print(x)\n",
        "\n",
        "# Memanggil Fungsi\n",
        "cetak(\"Tugas Python\")"
      ],
      "execution_count": null,
      "outputs": [
        {
          "output_type": "stream",
          "name": "stdout",
          "text": [
            "Tugas Python\n"
          ]
        }
      ]
    },
    {
      "cell_type": "code",
      "metadata": {
        "colab": {
          "base_uri": "https://localhost:8080/"
        },
        "id": "RipUgd0NTdjo",
        "outputId": "f1cb045b-8457-4d52-9619-e3cd213a6fcf"
      },
      "source": [
        "# Deklarasi Fungsi dengan pengembalian\n",
        "def tambah(a, b):\n",
        "  return a + b;\n",
        "\n",
        "# Memanggil Fungsi\n",
        "print(tambah(5, 3))"
      ],
      "execution_count": null,
      "outputs": [
        {
          "output_type": "stream",
          "name": "stdout",
          "text": [
            "8\n"
          ]
        }
      ]
    },
    {
      "cell_type": "code",
      "metadata": {
        "id": "9r0oXaTxVRvi"
      },
      "source": [
        "def perkalian(a, b):\n",
        "  return a * b;\n",
        "\n",
        "#Memanggil Fungsi\n",
        "  print(perkalian(3, 8))"
      ],
      "execution_count": null,
      "outputs": []
    },
    {
      "cell_type": "markdown",
      "metadata": {
        "id": "SLOP8yGkbpLO"
      },
      "source": [
        "# **Method**"
      ]
    },
    {
      "cell_type": "code",
      "metadata": {
        "id": "P_Z6c_AYWi71",
        "colab": {
          "base_uri": "https://localhost:8080/"
        },
        "outputId": "eb1d2b9d-a88d-4232-dc95-ab0c2037e863"
      },
      "source": [
        "class Orbit:\n",
        "# Deklarasi Fungsi\n",
        "  def cetak(x):\n",
        "    print(x)\n",
        "\n",
        "# Memanggil Fungsi\n",
        "  cetak(\"Dammam\")"
      ],
      "execution_count": null,
      "outputs": [
        {
          "output_type": "stream",
          "name": "stdout",
          "text": [
            "Dammam\n"
          ]
        }
      ]
    },
    {
      "cell_type": "code",
      "metadata": {
        "colab": {
          "base_uri": "https://localhost:8080/"
        },
        "id": "uh927B9_W0N1",
        "outputId": "0cc8c44c-02eb-4847-c864-f3bb2a4982e8"
      },
      "source": [
        "# Deklarasi Object (Class)\n",
        "class Orbit(object):\n",
        "  def Dammam(self):\n",
        "    print(\"Orbit\")\n",
        "\n",
        "# Memanggil method\n",
        "Dammam = Orbit()\n",
        "Dammam.Dammam()"
      ],
      "execution_count": null,
      "outputs": [
        {
          "output_type": "stream",
          "name": "stdout",
          "text": [
            "Orbit\n"
          ]
        }
      ]
    },
    {
      "cell_type": "markdown",
      "metadata": {
        "id": "3WbfqdEWbtsl"
      },
      "source": [
        "# **Lambda Expression**"
      ]
    },
    {
      "cell_type": "code",
      "metadata": {
        "colab": {
          "base_uri": "https://localhost:8080/"
        },
        "id": "wmZuN2s7ZzAZ",
        "outputId": "e01f7a67-ac1c-409c-ec34-189af4c569df"
      },
      "source": [
        "# Lambda expression\n",
        "tambah = lambda a, b: (a + b)\n",
        "print(tambah(3, 5))"
      ],
      "execution_count": null,
      "outputs": [
        {
          "output_type": "stream",
          "name": "stdout",
          "text": [
            "8\n"
          ]
        }
      ]
    },
    {
      "cell_type": "markdown",
      "metadata": {
        "id": "jxicmjLxkXCa"
      },
      "source": [
        "# **Object Oriented Programming**"
      ]
    },
    {
      "cell_type": "markdown",
      "metadata": {
        "id": "K_u-Dtb6kcBm"
      },
      "source": [
        "## **Encapsulation**"
      ]
    },
    {
      "cell_type": "code",
      "metadata": {
        "colab": {
          "base_uri": "https://localhost:8080/"
        },
        "id": "9-CEKFKYm2AA",
        "outputId": "3f9efba6-d4b7-4175-baba-88f576ca97a2"
      },
      "source": [
        "nama = \"Fadhil\"\n",
        "usia = 21\n",
        "jenis_kelamin = \"Laki-laki\"\n",
        "agama = \"Islam\"\n",
        "\n",
        "def Fadhil():\n",
        "  print(\"Fadhil Muhamad Irsyad\")\n",
        "\n",
        "def info_student(nama, usia, jenis_kelamin, agama):\n",
        "  print(f\"nama: {nama}, usia: {usia}, jenis_kelamin: {jenis_kelamin}, agama: {agama}\")\n",
        "\n",
        "info_student(nama, usia, jenis_kelamin, agama)\n",
        "\n",
        "\n",
        "class Student:\n",
        "  def __init__(self, nama, usia, jenis_kelamin, agama):\n",
        "    self.nama = nama\n",
        "    self.usia = usia\n",
        "    self.jenis_kelamin = jenis_kelamin\n",
        "    self.agama = agama\n",
        "\n",
        "  def myfunc(self):\n",
        "    print(\"Hello my name is \" + self.nama)\n",
        "  \n",
        "  def nama(self):\n",
        "    print(\"Fadhil Muhamad Irsyad\")\n",
        "\n",
        "  def info(self):\n",
        "    print(f\"nama: {self.nama}, usia: {self.usia}, jenis_kelamin: {self.jenis_kelamin}, agama: {self.agama}\")\n",
        "\n",
        "\n",
        "Student1= Student(\"Fadhil Muhamad Irsyad\", 21, \"Laki-laki\", \"Islam\")\n",
        "\n",
        "Student1.info()"
      ],
      "execution_count": null,
      "outputs": [
        {
          "output_type": "stream",
          "name": "stdout",
          "text": [
            "nama: Fadhil, usia: 21, jenis_kelamin: Laki-laki, agama: Islam\n",
            "nama: Fadhil Muhamad Irsyad, usia: 21, jenis_kelamin: Laki-laki, agama: Islam\n"
          ]
        }
      ]
    },
    {
      "cell_type": "markdown",
      "metadata": {
        "id": "wBoEkCxewdrg"
      },
      "source": [
        "## **Inheritence**"
      ]
    },
    {
      "cell_type": "code",
      "metadata": {
        "colab": {
          "base_uri": "https://localhost:8080/",
          "height": 248
        },
        "id": "HsVgKNgowiRP",
        "outputId": "f7e012b3-cf7a-4672-d6cf-ec3c9c847a18"
      },
      "source": [
        "class Student(object):\n",
        "  def __init__(self, nama, usia, jenis_kelamin, agama):\n",
        "    self.nama = nama\n",
        "    self.usia = usia\n",
        "    self.jenis_kelamin = jenis_kelamin\n",
        "    self.agama = agama\n",
        "\n",
        "  def tidur(self, durasi):\n",
        "    for x in range(durasi):\n",
        "      print(\"ddrrr... ddrrr... \")\n",
        "\n",
        "  def info(self):\n",
        "    print(f\"nama: {self.nama}, usia: {self.usia}, jenis_kelamin: {self.jenis_kelamin}, agama: {self.agama}\")\n",
        "\n",
        "Student1 = Student(\"Fadhil\", 21, \"Laki-laki\", True)\n",
        "Student1.info()\n",
        "\n",
        "class Fadhil(Student):\n",
        "  def __init__(self,  nama, usia, jenis_kelamin, agama, suku, kampus):\n",
        "    super().__init__(nama, usia, jenis_kelamin, agama, suku, kampus)\n",
        "    self.suku = suku\n",
        "    self.kampus = kampus\n",
        "  \n",
        "  def Fadhil(self):\n",
        "    print(\"Fadhil Muhamad Irsyad\")\n",
        "\n",
        "  def info_student(self):\n",
        "    print(f\"suku: {self.suku}, kampus: {self.kampus}\")\n",
        "\n",
        "Student1= Student (\"Fadhil\", 21, \"Laki-laki\", True, \"Sunda\", \"Universitas_Telkom\")\n",
        "\n",
        "Student1.info()\n",
        "Student1.info_Student()"
      ],
      "execution_count": null,
      "outputs": [
        {
          "output_type": "stream",
          "name": "stdout",
          "text": [
            "nama: Fadhil, usia: 21, jenis_kelamin: Laki-laki, agama: True\n"
          ]
        },
        {
          "output_type": "error",
          "ename": "TypeError",
          "evalue": "ignored",
          "traceback": [
            "\u001b[0;31m---------------------------------------------------------------------------\u001b[0m",
            "\u001b[0;31mTypeError\u001b[0m                                 Traceback (most recent call last)",
            "\u001b[0;32m<ipython-input-109-c130ff0f9389>\u001b[0m in \u001b[0;36m<module>\u001b[0;34m()\u001b[0m\n\u001b[1;32m     28\u001b[0m     \u001b[0mprint\u001b[0m\u001b[0;34m(\u001b[0m\u001b[0;34mf\"suku: {self.suku}, kampus: {self.kampus}\"\u001b[0m\u001b[0;34m)\u001b[0m\u001b[0;34m\u001b[0m\u001b[0;34m\u001b[0m\u001b[0m\n\u001b[1;32m     29\u001b[0m \u001b[0;34m\u001b[0m\u001b[0m\n\u001b[0;32m---> 30\u001b[0;31m \u001b[0mStudent1\u001b[0m\u001b[0;34m=\u001b[0m \u001b[0mStudent\u001b[0m \u001b[0;34m(\u001b[0m\u001b[0;34m\"Fadhil\"\u001b[0m\u001b[0;34m,\u001b[0m \u001b[0;36m21\u001b[0m\u001b[0;34m,\u001b[0m \u001b[0;34m\"Laki-laki\"\u001b[0m\u001b[0;34m,\u001b[0m \u001b[0;32mTrue\u001b[0m\u001b[0;34m,\u001b[0m \u001b[0;34m\"Sunda\"\u001b[0m\u001b[0;34m,\u001b[0m \u001b[0;34m\"Universitas_Telkom\"\u001b[0m\u001b[0;34m)\u001b[0m\u001b[0;34m\u001b[0m\u001b[0;34m\u001b[0m\u001b[0m\n\u001b[0m\u001b[1;32m     31\u001b[0m \u001b[0;34m\u001b[0m\u001b[0m\n\u001b[1;32m     32\u001b[0m \u001b[0mStudent1\u001b[0m\u001b[0;34m.\u001b[0m\u001b[0minfo\u001b[0m\u001b[0;34m(\u001b[0m\u001b[0;34m)\u001b[0m\u001b[0;34m\u001b[0m\u001b[0;34m\u001b[0m\u001b[0m\n",
            "\u001b[0;31mTypeError\u001b[0m: __init__() takes 5 positional arguments but 7 were given"
          ]
        }
      ]
    },
    {
      "cell_type": "markdown",
      "metadata": {
        "id": "Xpt9Lz6vqN-z"
      },
      "source": [
        "## **Abstraction**"
      ]
    },
    {
      "cell_type": "code",
      "metadata": {
        "id": "7B-U0kW3o9Lj"
      },
      "source": [
        "from abc import abstractmethod, ABC"
      ],
      "execution_count": null,
      "outputs": []
    },
    {
      "cell_type": "code",
      "metadata": {
        "colab": {
          "base_uri": "https://localhost:8080/"
        },
        "id": "fwa_TEf-v_8f",
        "outputId": "7482d5a6-4c2f-4a05-eaeb-be45e46b1351"
      },
      "source": [
        "class Dammamclass(ABC):\n",
        "    def print(self,x):\n",
        "        print(\"Passed value: \", x)\n",
        "    \n",
        "    @abstractmethod\n",
        "    def task(self):\n",
        "        pass\n",
        "\n",
        "        \n",
        "class test_class(Dammamclass):\n",
        "    def task(self):\n",
        "        print(\"We are inside test_class task\")\n",
        "        \n",
        "        \n",
        "class example_class(Dammamclass):\n",
        "    def task(self):\n",
        "        print(\"We are inside example_class task\")\n",
        "\n",
        "\n",
        "#object of test_class created\n",
        "test_duty = test_class()\n",
        "test_duty.task()\n",
        "test_duty.print(100)\n",
        "\n",
        "\n",
        "#object of example_class created\n",
        "example_duty = example_class()\n",
        "example_duty.task()\n",
        "example_duty.print(80)\n",
        " \n",
        "print(\"test_duty is instance of Dammamclass? \", isinstance(test_duty, Dammamclass))\n",
        "print(\"example_duty is instance of Dammamclass? \", isinstance(example_duty, Dammamclass))"
      ],
      "execution_count": null,
      "outputs": [
        {
          "output_type": "stream",
          "name": "stdout",
          "text": [
            "We are inside test_class task\n",
            "Passed value:  100\n",
            "We are inside example_class task\n",
            "Passed value:  80\n",
            "test_duty is instance of Dammamclass?  True\n",
            "example_duty is instance of Dammamclass?  True\n"
          ]
        }
      ]
    },
    {
      "cell_type": "markdown",
      "metadata": {
        "id": "lLLHjBNp1HDe"
      },
      "source": [
        "## **Polymorphism**"
      ]
    },
    {
      "cell_type": "code",
      "metadata": {
        "colab": {
          "base_uri": "https://localhost:8080/",
          "height": 350
        },
        "id": "BZLA6LDrxDHr",
        "outputId": "3c36ebaa-7e53-4520-ba70-ec8e825c06fd"
      },
      "source": [
        "class Student(Orbit):\n",
        "  def __init__(self,  nama, usia, jenis_kelamin, agama, suku, kampus, domisili):\n",
        "    super().__init__(nama, usia, jenis_kelamin, agama, suku, kampus)\n",
        "    self.suku = suku\n",
        "    self.kampus = kampus\n",
        "    self.domisili = domisili\n",
        "  \n",
        "  def berlari(self, durasi):\n",
        "    print(\"wushh... wush... \")\n",
        "\n",
        "  def info_student(self):\n",
        "    print(f\"suku: {self.suku}, kampus: {self.kampus}, domisili: {self.domisili}\")\n",
        "\n",
        "Student1 = Student(\"Fadhil\", 21, \"Laki-laki\", True, \"sunda\", \"Telkom_University\", \"Bandung\")\n",
        "\n",
        "Student1.info()\n",
        "student1.info_student()\n",
        "student1.berlari(1)"
      ],
      "execution_count": null,
      "outputs": [
        {
          "output_type": "error",
          "ename": "TypeError",
          "evalue": "ignored",
          "traceback": [
            "\u001b[0;31m---------------------------------------------------------------------------\u001b[0m",
            "\u001b[0;31mTypeError\u001b[0m                                 Traceback (most recent call last)",
            "\u001b[0;32m<ipython-input-116-a486a0a9f29b>\u001b[0m in \u001b[0;36m<module>\u001b[0;34m()\u001b[0m\n\u001b[1;32m     12\u001b[0m     \u001b[0mprint\u001b[0m\u001b[0;34m(\u001b[0m\u001b[0;34mf\"suku: {self.suku}, kampus: {self.kampus}, domisili: {self.domisili}\"\u001b[0m\u001b[0;34m)\u001b[0m\u001b[0;34m\u001b[0m\u001b[0;34m\u001b[0m\u001b[0m\n\u001b[1;32m     13\u001b[0m \u001b[0;34m\u001b[0m\u001b[0m\n\u001b[0;32m---> 14\u001b[0;31m \u001b[0mStudent1\u001b[0m \u001b[0;34m=\u001b[0m \u001b[0mStudent\u001b[0m\u001b[0;34m(\u001b[0m\u001b[0;34m\"Fadhil\"\u001b[0m\u001b[0;34m,\u001b[0m \u001b[0;36m21\u001b[0m\u001b[0;34m,\u001b[0m \u001b[0;34m\"Laki-laki\"\u001b[0m\u001b[0;34m,\u001b[0m \u001b[0;32mTrue\u001b[0m\u001b[0;34m,\u001b[0m \u001b[0;34m\"sunda\"\u001b[0m\u001b[0;34m,\u001b[0m \u001b[0;34m\"Telkom_University\"\u001b[0m\u001b[0;34m,\u001b[0m \u001b[0;34m\"Bandung\"\u001b[0m\u001b[0;34m)\u001b[0m\u001b[0;34m\u001b[0m\u001b[0;34m\u001b[0m\u001b[0m\n\u001b[0m\u001b[1;32m     15\u001b[0m \u001b[0;34m\u001b[0m\u001b[0m\n\u001b[1;32m     16\u001b[0m \u001b[0mStudent1\u001b[0m\u001b[0;34m.\u001b[0m\u001b[0minfo\u001b[0m\u001b[0;34m(\u001b[0m\u001b[0;34m)\u001b[0m\u001b[0;34m\u001b[0m\u001b[0;34m\u001b[0m\u001b[0m\n",
            "\u001b[0;32m<ipython-input-116-a486a0a9f29b>\u001b[0m in \u001b[0;36m__init__\u001b[0;34m(self, nama, usia, jenis_kelamin, agama, suku, kampus, domisili)\u001b[0m\n\u001b[1;32m      1\u001b[0m \u001b[0;32mclass\u001b[0m \u001b[0mStudent\u001b[0m\u001b[0;34m(\u001b[0m\u001b[0mOrbit\u001b[0m\u001b[0;34m)\u001b[0m\u001b[0;34m:\u001b[0m\u001b[0;34m\u001b[0m\u001b[0;34m\u001b[0m\u001b[0m\n\u001b[1;32m      2\u001b[0m   \u001b[0;32mdef\u001b[0m \u001b[0m__init__\u001b[0m\u001b[0;34m(\u001b[0m\u001b[0mself\u001b[0m\u001b[0;34m,\u001b[0m  \u001b[0mnama\u001b[0m\u001b[0;34m,\u001b[0m \u001b[0musia\u001b[0m\u001b[0;34m,\u001b[0m \u001b[0mjenis_kelamin\u001b[0m\u001b[0;34m,\u001b[0m \u001b[0magama\u001b[0m\u001b[0;34m,\u001b[0m \u001b[0msuku\u001b[0m\u001b[0;34m,\u001b[0m \u001b[0mkampus\u001b[0m\u001b[0;34m,\u001b[0m \u001b[0mdomisili\u001b[0m\u001b[0;34m)\u001b[0m\u001b[0;34m:\u001b[0m\u001b[0;34m\u001b[0m\u001b[0;34m\u001b[0m\u001b[0m\n\u001b[0;32m----> 3\u001b[0;31m     \u001b[0msuper\u001b[0m\u001b[0;34m(\u001b[0m\u001b[0;34m)\u001b[0m\u001b[0;34m.\u001b[0m\u001b[0m__init__\u001b[0m\u001b[0;34m(\u001b[0m\u001b[0mnama\u001b[0m\u001b[0;34m,\u001b[0m \u001b[0musia\u001b[0m\u001b[0;34m,\u001b[0m \u001b[0mjenis_kelamin\u001b[0m\u001b[0;34m,\u001b[0m \u001b[0magama\u001b[0m\u001b[0;34m,\u001b[0m \u001b[0msuku\u001b[0m\u001b[0;34m,\u001b[0m \u001b[0mkampus\u001b[0m\u001b[0;34m)\u001b[0m\u001b[0;34m\u001b[0m\u001b[0;34m\u001b[0m\u001b[0m\n\u001b[0m\u001b[1;32m      4\u001b[0m     \u001b[0mself\u001b[0m\u001b[0;34m.\u001b[0m\u001b[0msuku\u001b[0m \u001b[0;34m=\u001b[0m \u001b[0msuku\u001b[0m\u001b[0;34m\u001b[0m\u001b[0;34m\u001b[0m\u001b[0m\n\u001b[1;32m      5\u001b[0m     \u001b[0mself\u001b[0m\u001b[0;34m.\u001b[0m\u001b[0mkampus\u001b[0m \u001b[0;34m=\u001b[0m \u001b[0mkampus\u001b[0m\u001b[0;34m\u001b[0m\u001b[0;34m\u001b[0m\u001b[0m\n",
            "\u001b[0;31mTypeError\u001b[0m: object.__init__() takes exactly one argument (the instance to initialize)"
          ]
        }
      ]
    },
    {
      "cell_type": "markdown",
      "metadata": {
        "id": "fRJLjdI0yfak"
      },
      "source": [
        " **Script Coding Python**"
      ]
    },
    {
      "cell_type": "code",
      "metadata": {
        "colab": {
          "base_uri": "https://localhost:8080/"
        },
        "id": "4GW6TIOmytgv",
        "outputId": "6ffbea56-822b-480c-8115-bb0e13f26363"
      },
      "source": [
        "#Selamat Datang\n",
        "print (\"Halo Semua!\")"
      ],
      "execution_count": null,
      "outputs": [
        {
          "output_type": "stream",
          "name": "stdout",
          "text": [
            "Halo Semua!\n"
          ]
        }
      ]
    },
    {
      "cell_type": "code",
      "metadata": {
        "colab": {
          "base_uri": "https://localhost:8080/"
        },
        "id": "OlZFX3-vytad",
        "outputId": "c1a91520-254a-41f0-8a2c-f8e9ebdc4f2f"
      },
      "source": [
        "#Kalkulator Sederhana\n",
        "\"Penjumlahan\"\n",
        "a = 2\n",
        "b = 3\n",
        "c = a+b\n",
        "print (c)\n",
        "\n",
        "\"Pengurangan\"\n",
        "a = 3\n",
        "b = 5\n",
        "c = b-a\n",
        "print (c)\n",
        "\n",
        "\"Perkalian\"\n",
        "a = 5\n",
        "b = 2\n",
        "c = a*b\n",
        "print (c)\n",
        "\n",
        "\"Pembagian\"\n",
        "a = 3\n",
        "b = 9\n",
        "c = b/a\n",
        "print (c)"
      ],
      "execution_count": null,
      "outputs": [
        {
          "output_type": "stream",
          "name": "stdout",
          "text": [
            "5\n",
            "2\n",
            "10\n",
            "3.0\n"
          ]
        }
      ]
    },
    {
      "cell_type": "code",
      "metadata": {
        "colab": {
          "base_uri": "https://localhost:8080/"
        },
        "id": "dBZFeSF41Bh6",
        "outputId": "bfd5de02-a426-4ba1-82e6-fb89ac5c9e92"
      },
      "source": [
        "#If Else Elif\n",
        "\"Nilai Ujian\"\n",
        "nilai = float(input(\"\\nMasukkan Nilai\"))\n",
        "\n",
        "if nilai >= 85:\n",
        "    print (\"A\")\n",
        "elif nilai >= 70:\n",
        "    print (\"B\")\n",
        "elif nilai >= 50:\n",
        "    print (\"C\")\n",
        "else:\n",
        "    print (\"\\nTidak Lulus\")"
      ],
      "execution_count": null,
      "outputs": [
        {
          "output_type": "stream",
          "name": "stdout",
          "text": [
            "\n",
            "Masukkan Nilai45\n",
            "\n",
            "Tidak Lulus\n"
          ]
        }
      ]
    }
  ]
}